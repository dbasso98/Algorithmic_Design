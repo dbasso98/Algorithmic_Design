{
 "metadata": {
  "language_info": {
   "codemirror_mode": {
    "name": "ipython",
    "version": 3
   },
   "file_extension": ".py",
   "mimetype": "text/x-python",
   "name": "python",
   "nbconvert_exporter": "python",
   "pygments_lexer": "ipython3",
   "version": "3.9.4"
  },
  "orig_nbformat": 2,
  "kernelspec": {
   "name": "python394jvsc74a57bd0aee8b7b246df8f9039afb4144a1f6fd8d2ca17a180786b69acc140d282b71a49",
   "display_name": "Python 3.9.4 64-bit"
  },
  "metadata": {
   "interpreter": {
    "hash": "aee8b7b246df8f9039afb4144a1f6fd8d2ca17a180786b69acc140d282b71a49"
   }
  }
 },
 "nbformat": 4,
 "nbformat_minor": 2,
 "cells": [
  {
   "source": [
    "# Homework Batch III: Routing Algorithms\n",
    "## Davide Basso - SM3500450"
   ],
   "cell_type": "markdown",
   "metadata": {}
  },
  {
   "source": [
    "1. Implement the binary heap-based version of the Dijkstra's algorithm."
   ],
   "cell_type": "markdown",
   "metadata": {}
  },
  {
   "cell_type": "code",
   "execution_count": 1,
   "metadata": {},
   "outputs": [],
   "source": [
    "from math import inf\n",
    "from graph import *\n",
    "from node_binheap import binheap"
   ]
  },
  {
   "cell_type": "code",
   "execution_count": 4,
   "metadata": {},
   "outputs": [],
   "source": [
    "def init_SSSP(G):\n",
    "    for v in G.V:\n",
    "        v.d = inf\n",
    "        v.pred = None\n",
    "\n",
    "def relax(Q, u, v, w):\n",
    "    #print(v.index, v.heap_index)\n",
    "    if u.d+w < v.d:\n",
    "        Q.decrease_key(v.heap_index, u.d+w)\n",
    "        v.pred = u\n",
    "\n",
    "def Dijkstra(G, s):\n",
    "    init_SSSP(G)\n",
    "    s.d = 0\n",
    "\n",
    "    Q = binheap(G.V)\n",
    "    for h_i, node in enumerate(Q._A):\n",
    "        node.heap_index = h_i\n",
    "\n",
    "    final_queue = []\n",
    "    i = 0\n",
    "    while not Q.is_empty():\n",
    "        #print(Q)\n",
    "        u = Q.remove_minimum()\n",
    "        final_queue.append(u)\n",
    "\n",
    "        # this means that we've arrived at the point of the queue\n",
    "        # in which are located only nodes eliminated by shortcuts\n",
    "        if u.d == inf and u.pred is None:\n",
    "            break\n",
    "\n",
    "        if i != 0:\n",
    "            print(f\"\\nnode {u.index} with total distance {u.d} from root and predecessor node is {u.pred.index}\")\n",
    "        else:\n",
    "            i += 1\n",
    "            print(f\"The path starts from node {u.index}, then we have:\")\n",
    "\n",
    "        for (v,w) in G.Adj[u.index]:\n",
    "            relax(Q, u, v, w)\n",
    "    \n",
    "    return final_queue"
   ]
  },
  {
   "cell_type": "code",
   "execution_count": 5,
   "metadata": {},
   "outputs": [],
   "source": [
    "a = Node(0,None,None,None)\n",
    "b = Node(1,None,None,None)\n",
    "c = Node(2,None,None,None)\n",
    "d = Node(3,None,None,None)\n",
    "e = Node(4,None,None,None)\n",
    "f = Node(5,None,None,None)\n",
    "\n",
    "vertices = [a,b,c,d,e,f]\n",
    "edges = [Edge(a,b,1), Edge(a,c,5), Edge(b,f,15), Edge(c,d,2), Edge(d,e,1), Edge(e,f,3)]"
   ]
  },
  {
   "cell_type": "code",
   "execution_count": 6,
   "metadata": {},
   "outputs": [
    {
     "output_type": "stream",
     "name": "stdout",
     "text": [
      "index: 0, data: None, predecessor: None\nindex: 1, data: None, predecessor: None\nindex: 2, data: None, predecessor: None\nindex: 3, data: None, predecessor: None\nindex: 4, data: None, predecessor: None\nindex: 5, data: None, predecessor: None\n"
     ]
    }
   ],
   "source": [
    "G = Weighted_Graph(vertices, edges)\n",
    "for v in G.V:\n",
    "    v.print_node()"
   ]
  },
  {
   "cell_type": "code",
   "execution_count": 7,
   "metadata": {},
   "outputs": [
    {
     "output_type": "stream",
     "name": "stdout",
     "text": [
      "The path starts from node 0, then we have:\n\nnode 1 with total distance 1 from root and predecessor node is 0\n\nnode 2 with total distance 5 from root and predecessor node is 0\n\nnode 3 with total distance 7 from root and predecessor node is 2\n\nnode 4 with total distance 8 from root and predecessor node is 3\n\nnode 5 with total distance 11 from root and predecessor node is 4\n"
     ]
    }
   ],
   "source": [
    "res = Dijkstra(G,a)"
   ]
  },
  {
   "source": [
    "2. Consider the contraction hierarchies presented during the course. Assume to deal with graphs that can be fully represented in the memory of your computer. Implement:\n",
    "\n",
    "(a) an algorithm to add the shortcuts to a graph;\n"
   ],
   "cell_type": "markdown",
   "metadata": {}
  },
  {
   "cell_type": "code",
   "execution_count": 8,
   "metadata": {},
   "outputs": [],
   "source": [
    "def compute_shortcut(node, edges, vertices):\n",
    "    shortcuts = {\"deleted\": None,\n",
    "                 \"pred\": [], \"pred_weight\":[],\n",
    "                 \"next\": [], \"next_weight\": []}\n",
    "\n",
    "    shortcuts[\"deleted\"] = node.index\n",
    "\n",
    "    # find the edges in which node is involved\n",
    "    # and add them to the dictionary\n",
    "    for edge in edges:\n",
    "        if edge.v.index == node.index:\n",
    "            shortcuts[\"pred\"].append(edge.u.index)\n",
    "            shortcuts[\"pred_weight\"].append(edge.weight)\n",
    "        if edge.u.index == node.index:\n",
    "            shortcuts[\"next\"].append(edge.v.index)\n",
    "            shortcuts[\"next_weight\"].append(edge.weight)\n",
    "\n",
    "    for k,v in shortcuts.items():\n",
    "        print(f\"{k} -> {v}\")\n",
    "    \n",
    "    # remove edges involving node\n",
    "    edges = [edge for edge in edges if not (edge.v.index == node.index or edge.u.index == node.index)]\n",
    "    \n",
    "    # create new edges\n",
    "    new_edges = []\n",
    "    for pred, pred_w in zip(shortcuts[\"pred\"], shortcuts[\"pred_weight\"]):\n",
    "        #print(pred,\"and\", pred_w)\n",
    "        p = [v for v in vertices if v.index == pred][0]\n",
    "        for succ, succ_w in zip(shortcuts[\"next\"], shortcuts[\"next_weight\"]):\n",
    "            #print(succ,\"and\", succ_w)\n",
    "            s = [v for v in vertices if v.index == succ][0]\n",
    "            new_edge = Edge(p, s, pred_w+succ_w)\n",
    "            new_edges.append(new_edge)\n",
    "            edges.append(new_edge)\n",
    "    \n",
    "    # compare if new edges are worse than already existing ones\n",
    "    # if so remove them\n",
    "    for n_e in new_edges:\n",
    "        for e in edges:\n",
    "            if e.u.index == n_e.u.index and e.v.index == n_e.v.index and e.weight < n_e.weight:\n",
    "                edges.remove(n_e)\n",
    "                \n",
    "    return edges"
   ]
  },
  {
   "cell_type": "code",
   "execution_count": 9,
   "metadata": {},
   "outputs": [],
   "source": [
    "a = Node(0,None,None,None)\n",
    "b = Node(1,None,None,None)\n",
    "c = Node(2,None,None,None)\n",
    "d = Node(3,None,None,None)\n",
    "e = Node(4,None,None,None)\n",
    "f = Node(5,None,None,None)\n",
    "\n",
    "vertices = [a,b,c,d,e,f]\n",
    "edges = [Edge(a,b,10), Edge(a,c,1), Edge(b,c,3), Edge(b,f,15), Edge(c,d,2), Edge(d,e,1), Edge(e,f,3)]"
   ]
  },
  {
   "cell_type": "code",
   "execution_count": 10,
   "metadata": {},
   "outputs": [
    {
     "output_type": "stream",
     "name": "stdout",
     "text": [
      "deleted -> 2\npred -> [0, 1]\npred_weight -> [1, 3]\nnext -> [3]\nnext_weight -> [2]\n\n\npred: 0, succ: 1, val: 10\npred: 1, succ: 5, val: 15\npred: 3, succ: 4, val: 1\npred: 4, succ: 5, val: 3\npred: 0, succ: 3, val: 3\npred: 1, succ: 3, val: 5\n"
     ]
    }
   ],
   "source": [
    "res = compute_shortcut(c, edges, vertices)\n",
    "\n",
    "print(\"\\n\")\n",
    "for el in res:\n",
    "    print(f\"pred: {el.u.index}, succ: {el.v.index}, val: {el.weight}\")"
   ]
  },
  {
   "cell_type": "code",
   "execution_count": 11,
   "metadata": {},
   "outputs": [
    {
     "output_type": "stream",
     "name": "stdout",
     "text": [
      "The path starts from node 0, then we have:\n\nnode 3 with total distance 3 from root and predecessor node is 0\n\nnode 4 with total distance 4 from root and predecessor node is 3\n\nnode 5 with total distance 7 from root and predecessor node is 4\n\nnode 1 with total distance 10 from root and predecessor node is 0\n"
     ]
    }
   ],
   "source": [
    "G = Weighted_Graph(vertices, res)\n",
    "res = Dijkstra(G,a)"
   ]
  },
  {
   "source": [
    "(b) a bidirectional version of Dijkstra algorithm that can operate on the graphs decorated by the algorithm at Point 2a."
   ],
   "cell_type": "markdown",
   "metadata": {}
  },
  {
   "cell_type": "code",
   "execution_count": 12,
   "metadata": {},
   "outputs": [],
   "source": [
    "def reverse_edges(edges):\n",
    "    back = []\n",
    "    for el in edges:\n",
    "\n",
    "        tmp = Edge(el.v, el.u, el.weight)\n",
    "        back.append(tmp)\n",
    "\n",
    "    return back"
   ]
  },
  {
   "cell_type": "code",
   "execution_count": 13,
   "metadata": {},
   "outputs": [],
   "source": [
    "def get_predecessors(node, predecs):\n",
    "    if node.pred is not None:\n",
    "        predecs.append(node.pred)\n",
    "        get_predecessors(node.pred, predecs)"
   ]
  },
  {
   "cell_type": "code",
   "execution_count": 14,
   "metadata": {},
   "outputs": [],
   "source": [
    "from copy import deepcopy\n",
    "def bidirect_Dijkstra(f_G, b_G, s, t):\n",
    "    F_G = deepcopy(f_G)\n",
    "    B_G = deepcopy(b_G)\n",
    "    init_SSSP(F_G)\n",
    "    init_SSSP(B_G)\n",
    "\n",
    "    F_G.V[s.index].d = 0\n",
    "    f_Q = binheap(F_G.V)\n",
    "\n",
    "    B_G.V[t.index].d = 0\n",
    "    b_Q = binheap(B_G.V)\n",
    "\n",
    "    for h_i, node in enumerate(f_Q._A):\n",
    "        node.heap_index = h_i\n",
    "    for h_i, node in enumerate(b_Q._A):\n",
    "        node.heap_index = h_i\n",
    "    \n",
    "    #print(f_Q)\n",
    "    #print(b_Q)\n",
    "\n",
    "    forward_processed = []\n",
    "    backward_processed = []\n",
    "    i = 0\n",
    "    final_weight = 0\n",
    "    while not f_Q.is_empty() and not b_Q.is_empty():\n",
    "        #print(f_Q)\n",
    "        #print(b_Q)\n",
    "        u = f_Q.remove_minimum()\n",
    "        v = b_Q.remove_minimum()\n",
    "\n",
    "        flag = False\n",
    "\n",
    "        f_queue = []\n",
    "        b_queue = []\n",
    "        for el in backward_processed:\n",
    "            if u.index == el.index:\n",
    "                flag = True\n",
    "                get_predecessors(u,f_queue)\n",
    "        \n",
    "        for el in forward_processed:\n",
    "            if v.index == el.index:\n",
    "                flag = True\n",
    "                get_predecessors(v,b_queue)\n",
    "\n",
    "\n",
    "        if flag is True:\n",
    "            f_queue.reverse()\n",
    "            final_weight = f_queue[-1].d + b_queue[0].d\n",
    "            f_queue.pop()\n",
    "            break\n",
    "        print(u.index,v.index)\n",
    "\n",
    "        forward_processed.append(u)\n",
    "        backward_processed.append(v)\n",
    "        \n",
    "        \n",
    "        # this means that we've arrived at the point of the queue\n",
    "        # in which are located only nodes eliminated by shortcuts\n",
    "        if u.d == inf and u.pred is None or v.d == inf and v.pred is None:\n",
    "            break\n",
    "        \n",
    "        if i != 0:\n",
    "            print(f\"\\nforward node {u.index} with total distance {u.d} from root and predecessor node is {u.pred.index}\")\n",
    "            print(f\"backward node {v.index} with total distance {v.d} from root and predecessor node is {v.pred.index}\")\n",
    "        else:\n",
    "            i += 1\n",
    "            print(f\"The forward path starts from node {u.index}, then we have:\")\n",
    "            print(f\"The backward path starts from node {v.index}, then we have:\")\n",
    "        \n",
    "\n",
    "        for (k,w) in F_G.Adj[u.index]:\n",
    "            relax(f_Q, u, k, w)\n",
    "            #if k in backward_processed and u.d + k.d + w < mu:\n",
    "            #    mu = u.d + k.d + w  \n",
    "        \n",
    "        for (k,w) in B_G.Adj[v.index]:\n",
    "            relax(b_Q, v, k, w)\n",
    "            #if k in forward_processed and v.d + k.d + w < mu:\n",
    "            #    mu = v.d + k.d + w\n",
    "\n",
    "    return f_queue+b_queue, final_weight\n"
   ]
  },
  {
   "cell_type": "code",
   "execution_count": 15,
   "metadata": {},
   "outputs": [],
   "source": [
    "a = Node(0,None,None,None)\n",
    "b = Node(1,None,None,None)\n",
    "c = Node(2,None,None,None)\n",
    "d = Node(3,None,None,None)\n",
    "e = Node(4,None,None,None)\n",
    "f = Node(5,None,None,None)\n",
    "\n",
    "vertices = [a,b,c,d,e,f]\n",
    "edges = [Edge(a,b,1), Edge(a,c,10), Edge(b,c,1), Edge(b,f,15), Edge(c,d,2), Edge(d,e,1), Edge(e,f,3)]\n",
    "backward_edges = reverse_edges(edges)\n",
    "\n",
    "G1 = Weighted_Graph(vertices, edges)\n",
    "G2 = Weighted_Graph(vertices, backward_edges)"
   ]
  },
  {
   "cell_type": "code",
   "execution_count": 16,
   "metadata": {},
   "outputs": [
    {
     "output_type": "stream",
     "name": "stdout",
     "text": [
      "0 1\n0 2\n1 2\n1 5\n2 3\n3 4\n4 5\n\n\n1 0\n2 0\n2 1\n5 1\n3 2\n4 3\n5 4\n"
     ]
    }
   ],
   "source": [
    "for el in edges:\n",
    "    print(el.u.index, el.v.index)\n",
    "print(\"\\n\")\n",
    "for el in backward_edges:\n",
    "    print(el.u.index, el.v.index)"
   ]
  },
  {
   "cell_type": "code",
   "execution_count": 17,
   "metadata": {},
   "outputs": [
    {
     "output_type": "stream",
     "name": "stdout",
     "text": [
      "0 4\nThe forward path starts from node 0, then we have:\nThe backward path starts from node 4, then we have:\n1 3\n\nforward node 1 with total distance 1 from root and predecessor node is 0\nbackward node 3 with total distance 1 from root and predecessor node is 4\n2 2\n\nforward node 2 with total distance 2 from root and predecessor node is 1\nbackward node 2 with total distance 3 from root and predecessor node is 3\n"
     ]
    }
   ],
   "source": [
    "res, weight = bidirect_Dijkstra(G1, G2, a, e)"
   ]
  },
  {
   "cell_type": "code",
   "execution_count": null,
   "metadata": {},
   "outputs": [],
   "source": []
  }
 ]
}