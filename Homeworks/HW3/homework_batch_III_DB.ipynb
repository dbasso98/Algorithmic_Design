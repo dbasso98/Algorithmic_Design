{
 "metadata": {
  "language_info": {
   "codemirror_mode": {
    "name": "ipython",
    "version": 3
   },
   "file_extension": ".py",
   "mimetype": "text/x-python",
   "name": "python",
   "nbconvert_exporter": "python",
   "pygments_lexer": "ipython3",
   "version": "3.9.4"
  },
  "orig_nbformat": 2,
  "kernelspec": {
   "name": "python394jvsc74a57bd0aee8b7b246df8f9039afb4144a1f6fd8d2ca17a180786b69acc140d282b71a49",
   "display_name": "Python 3.9.4 64-bit"
  },
  "metadata": {
   "interpreter": {
    "hash": "aee8b7b246df8f9039afb4144a1f6fd8d2ca17a180786b69acc140d282b71a49"
   }
  }
 },
 "nbformat": 4,
 "nbformat_minor": 2,
 "cells": [
  {
   "source": [
    "# Homework Batch III: Routing Algorithms\n",
    "## Davide Basso - SM3500450"
   ],
   "cell_type": "markdown",
   "metadata": {}
  },
  {
   "source": [
    "### Exercise 1\n",
    "\n",
    "Implement the binary heap-based version of the Dijkstra's algorithm."
   ],
   "cell_type": "markdown",
   "metadata": {}
  },
  {
   "source": [
    "First of all I've done some slight modifications on the binheap class that we've implemented during lesson in order to properly deal with nodes. These can be found in the file **node_binheap.py** present in this repository; basically since we are considering distances in order to build the heap, all the comparison steps were done with respect to distances and not node's index. Further insights can be found as comments in the very same file.\n",
    "\n",
    "Also classes such as `Node`, `Edge` and `Weighted_Graph` have been implemented, within **graph.py**. Also in this case I recall comments present in the aforementioned file, in order to grasp all the properties and characteristics of each object.\n",
    "\n",
    "Finally here below the implementation for Dijkstra's algorithm using bin-heaps as priority queues:"
   ],
   "cell_type": "markdown",
   "metadata": {}
  },
  {
   "cell_type": "code",
   "execution_count": 1,
   "metadata": {},
   "outputs": [],
   "source": [
    "from math import inf # necessary to initialize distances of the graph\n",
    "from graph import *\n",
    "from node_binheap import binheap"
   ]
  },
  {
   "cell_type": "code",
   "execution_count": 2,
   "metadata": {},
   "outputs": [],
   "source": [
    "def init_SSSP(G):\n",
    "    for v in G.V:\n",
    "        v.d = inf\n",
    "        v.pred = None\n",
    "\n",
    "def relax(Q, u, v, w):\n",
    "    if u.d+w < v.d:\n",
    "        Q.decrease_key(v.heap_index, u.d+w)\n",
    "        v.pred = u\n",
    "\n",
    "def Dijkstra(G, s):\n",
    "    init_SSSP(G)\n",
    "    s.d = 0\n",
    "\n",
    "    Q = binheap(G.V)\n",
    "    for h_i, node in enumerate(Q._A):\n",
    "        node.heap_index = h_i\n",
    "\n",
    "    final_queue = []\n",
    "    i = 0\n",
    "    while not Q.is_empty():\n",
    "        u = Q.remove_minimum()\n",
    "        final_queue.append(u)\n",
    "\n",
    "        # some prints in order to check if we are following the correct path\n",
    "        if i != 0:\n",
    "            print(f\"\\nnode {u.index} with total distance {u.d} from root and predecessor node is {u.pred.index}\")\n",
    "        else:\n",
    "            i += 1\n",
    "            print(f\"The path starts from node {u.index}, then we have:\")\n",
    "\n",
    "        for (v,w) in G.Adj[u.index]:\n",
    "            relax(Q, u, v, w)\n",
    "    \n",
    "    return final_queue"
   ]
  },
  {
   "source": [
    "We can now test if the algorithm is able to find the shortest paths from a given source to all the other nodes belonging to the graph (this example refers to the one present in the slides of the course, more precisely at ch.7 slide n°13)."
   ],
   "cell_type": "markdown",
   "metadata": {}
  },
  {
   "cell_type": "code",
   "execution_count": 3,
   "metadata": {},
   "outputs": [],
   "source": [
    "a = Node(0,None,None,None)\n",
    "b = Node(1,None,None,None)\n",
    "c = Node(2,None,None,None)\n",
    "d = Node(3,None,None,None)\n",
    "e = Node(4,None,None,None)\n",
    "f = Node(5,None,None,None)\n",
    "\n",
    "vertices = [a,b,c,d,e,f]\n",
    "edges = [Edge(a,b,1), Edge(a,c,5), Edge(b,f,15), Edge(c,d,2), Edge(d,e,1), Edge(e,f,3)]"
   ]
  },
  {
   "cell_type": "code",
   "execution_count": 4,
   "metadata": {},
   "outputs": [
    {
     "output_type": "stream",
     "name": "stdout",
     "text": [
      "The path starts from node 0, then we have:\n\nnode 1 with total distance 1 from root and predecessor node is 0\n\nnode 2 with total distance 5 from root and predecessor node is 0\n\nnode 3 with total distance 7 from root and predecessor node is 2\n\nnode 4 with total distance 8 from root and predecessor node is 3\n\nnode 5 with total distance 11 from root and predecessor node is 4\n"
     ]
    }
   ],
   "source": [
    "G = Weighted_Graph(vertices, edges)\n",
    "res = Dijkstra(G,a)"
   ]
  },
  {
   "source": [
    "Final result is correct and coherent with the one shown in slides."
   ],
   "cell_type": "markdown",
   "metadata": {}
  },
  {
   "source": [
    "### Exercise 2\n",
    "\n",
    "Consider the contraction hierarchies presented during the course. Assume to deal with graphs that can be fully represented in the memory of your computer. Implement:\n",
    "\n",
    "(a) an algorithm to add the shortcuts to a graph;\n",
    "\n",
    "Shortcuts are pretty useful in the case we'd like to compute shortest paths in contraction hierarchies or more general in some kind of graph by skipping all those nodes that are less important with respect to the last reached one. A shortcut is added to the graph if and only if the path obtained by merging incoming and outcoming edges is smaller than other edges already present and connecting neighbours of skipped node.\n",
    "\n",
    "To do so I've implemented a function that takes as inputs the node we want to skip, all the edges and vertices present in the graph while as output it returns the updated list of edges with all the shortcuts needed."
   ],
   "cell_type": "markdown",
   "metadata": {}
  },
  {
   "cell_type": "code",
   "execution_count": 5,
   "metadata": {},
   "outputs": [],
   "source": [
    "def compute_shortcut(node, edges, vertices, contracted):\n",
    "    shortcuts = {\"deleted\": None,\n",
    "                 \"pred\": [], \"pred_weight\":[],\n",
    "                 \"next\": [], \"next_weight\": []}\n",
    "\n",
    "    shortcuts[\"deleted\"] = node.index\n",
    "\n",
    "    # find the edges in which node is involved \n",
    "    # and add them to the dictionary\n",
    "    for edge in edges:\n",
    "        if edge.v.index == node.index:\n",
    "            shortcuts[\"pred\"].append(edge.u.index)\n",
    "            shortcuts[\"pred_weight\"].append(edge.weight)\n",
    "        if edge.u.index == node.index:\n",
    "            shortcuts[\"next\"].append(edge.v.index)\n",
    "            shortcuts[\"next_weight\"].append(edge.weight)    \n",
    "\n",
    "    for k,v in shortcuts.items():\n",
    "        print(f\"{k} -> {v}\")\n",
    "    \n",
    "    # remove edges involving node we want to skip\n",
    "    res = [edge for edge in edges if not (edge.v.index == node.index or edge.u.index == node.index)]\n",
    "    \n",
    "    # create shortcuts\n",
    "    new_edges = []\n",
    "    for pred, pred_w in zip(shortcuts[\"pred\"], shortcuts[\"pred_weight\"]):\n",
    "        p = [v for v in vertices if v.index == pred][0]\n",
    "        for succ, succ_w in zip(shortcuts[\"next\"], shortcuts[\"next_weight\"]):\n",
    "            s = [v for v in vertices if v.index == succ][0]\n",
    "            new_edge = Edge(p, s, pred_w+succ_w)\n",
    "            new_edges.append(new_edge)\n",
    "            res.append(new_edge)\n",
    "    \n",
    "    # compare if new edges are worse than already existing ones\n",
    "    # if so remove them\n",
    "    for n_e in new_edges:\n",
    "        for e in edges:\n",
    "            if e.u.index == n_e.u.index and e.v.index == n_e.v.index and e.weight < n_e.weight:\n",
    "                res.remove(n_e)\n",
    "            else:\n",
    "                # We add in the contracted matrix the middle vertex that is skipped due to the shortcut; \n",
    "                # it is placed in [n,m] position where:\n",
    "                # • n is shortcut source's index \n",
    "                # • m is shortcut destination's index\n",
    "                contracted[n_e.u.index][n_e.v.index] = node\n",
    "                \n",
    "    return res"
   ]
  },
  {
   "source": [
    "Let's test the function on the previous example by removing node c:"
   ],
   "cell_type": "markdown",
   "metadata": {}
  },
  {
   "cell_type": "code",
   "execution_count": 6,
   "metadata": {},
   "outputs": [
    {
     "output_type": "stream",
     "name": "stdout",
     "text": [
      "deleted -> 2\npred -> [0]\npred_weight -> [5]\nnext -> [3]\nnext_weight -> [2]\n\nNew edges with shortcut:\npred: 0, succ: 1, val: 1\npred: 1, succ: 5, val: 15\npred: 3, succ: 4, val: 1\npred: 4, succ: 5, val: 3\npred: 0, succ: 3, val: 7\n"
     ]
    }
   ],
   "source": [
    "contr = [[None for v in vertices] for j in vertices]\n",
    "res = compute_shortcut(c, edges, vertices, contr)\n",
    "\n",
    "print(\"\\nNew edges with shortcut:\")\n",
    "for el in res:\n",
    "    print(f\"pred: {el.u.index}, succ: {el.v.index}, val: {el.weight}\")"
   ]
  },
  {
   "source": [
    "And we can observe that even in this case the algorithm gives the correct result (both in terms of skipped node and new edges' value)."
   ],
   "cell_type": "markdown",
   "metadata": {}
  },
  {
   "source": [
    "(b) a bidirectional version of Dijkstra algorithm that can operate on the graphs decorated by the algorithm at Point 2a."
   ],
   "cell_type": "markdown",
   "metadata": {}
  },
  {
   "source": [
    "From theory, in order to correctly implement a bidirectional version of Dijkstra, we know that we need to operate on a forward and reverse graph (a graph in which all edges are flipped). \n",
    "To achieve this first step I've implemented the `reverse_edges` function, that simply returns a list of edges with source and destination inverted."
   ],
   "cell_type": "markdown",
   "metadata": {}
  },
  {
   "cell_type": "code",
   "execution_count": 7,
   "metadata": {},
   "outputs": [],
   "source": [
    "def reverse_edges(edges):\n",
    "    back = []\n",
    "    for el in edges:\n",
    "        tmp = Edge(el.v, el.u, el.weight)\n",
    "        back.append(tmp)\n",
    "\n",
    "    return back"
   ]
  },
  {
   "source": [
    "Dijkstra bidirectional algorithm is based on the following ideas:\n",
    "* Start simultaneously Dijkstra algorithm from source and target node respectively in forward and backward graph;\n",
    "* when the two executions finalize at the same time the same node or when the finalized node of one execution has been already processed in the other one then both executions are stopped and forward and backward path are retrieved (using `get_predecessor` function);\n",
    "* if shortcuts have been added then, before relaxing an edge, we need to check if destination is leading to a node with higher importance in the hierarchy w.r.t. the source one (only in this way we can exploit the advantage of contraction hierarchies and shortcuts).\n"
   ],
   "cell_type": "markdown",
   "metadata": {}
  },
  {
   "cell_type": "code",
   "execution_count": 8,
   "metadata": {},
   "outputs": [],
   "source": [
    "def get_predecessors(node, predecs):\n",
    "    if node.pred is not None:\n",
    "        predecs.append(node.pred)\n",
    "        get_predecessors(node.pred, predecs)"
   ]
  },
  {
   "cell_type": "code",
   "execution_count": 42,
   "metadata": {},
   "outputs": [],
   "source": [
    "from copy import deepcopy\n",
    "def bidirect_Dijkstra(f_G, b_G, s, t, shortcuts=False):\n",
    "    # Deep copy is needed, otherwise when updating \n",
    "    # the value of a node that is propagated also \n",
    "    # to correspondent node belonging to the other graph\n",
    "    F_G = deepcopy(f_G)\n",
    "    B_G = deepcopy(b_G)\n",
    "    init_SSSP(F_G)\n",
    "    init_SSSP(B_G)\n",
    "\n",
    "    F_G.V[s.index].d = 0\n",
    "    f_Q = binheap(F_G.V)\n",
    "\n",
    "    B_G.V[t.index].d = 0\n",
    "    b_Q = binheap(B_G.V)\n",
    "\n",
    "    for h_i, node in enumerate(f_Q._A):\n",
    "        node.heap_index = h_i\n",
    "    for h_i, node in enumerate(b_Q._A):\n",
    "        node.heap_index = h_i\n",
    "\n",
    "    forward_processed = []\n",
    "    backward_processed = []\n",
    "    i = 0\n",
    "    final_weight = 0\n",
    "    while not f_Q.is_empty() and not b_Q.is_empty():\n",
    "        u = f_Q.remove_minimum()\n",
    "        v = b_Q.remove_minimum()\n",
    "\n",
    "        flag = False\n",
    "\n",
    "        f_queue = []\n",
    "        b_queue = []\n",
    "        dist = inf\n",
    "\n",
    "        if u.index==v.index:\n",
    "            flag = True\n",
    "            f_queue.append(u)\n",
    "            get_predecessors(u,f_queue)\n",
    "            b_queue.append(v)\n",
    "            get_predecessors(v,b_queue)\n",
    "\n",
    "            f_queue.reverse()\n",
    "            final_weight = f_queue[-1].d + b_queue[0].d\n",
    "            f_queue.pop()\n",
    "            break\n",
    "        \n",
    "        else:\n",
    "            if u.index in backward_processed:\n",
    "                b_node = [x for x in B_G.V if x.index == u.index][0]\n",
    "                if u.d + b_node.d < dist:\n",
    "                    flag = True\n",
    "                    get_predecessors(u,f_queue)\n",
    "                    b_queue.append(b_node)\n",
    "                    get_predecessors(b_node,b_queue)\n",
    "                    dist = u.d + b_node.d\n",
    "\n",
    "            elif v.index in forward_processed:\n",
    "                f_node = [x for x in F_G.V if x.index == u.index][0]\n",
    "                if v.d + f_node.d < dist:\n",
    "                    flag = True\n",
    "                    b_queue.append(v)\n",
    "                    get_predecessors(v,b_queue)\n",
    "                    get_predecessors(f_node,f_queue)\n",
    "                    dist = v.d + f_node.d\n",
    "            \n",
    "            if flag is True:\n",
    "                f_queue.reverse()\n",
    "                final_weight = dist\n",
    "                break\n",
    "        \n",
    "        forward_processed.append(u.index)\n",
    "        backward_processed.append(v.index)\n",
    "        \n",
    "        if i != 0:\n",
    "            print(f\"\\nforward node {u.index} with total distance {u.d} from root and predecessor node is {u.pred.index}\")\n",
    "            print(f\"backward node {v.index} with total distance {v.d} from root and predecessor node is {v.pred.index}\")\n",
    "        else:\n",
    "            i += 1\n",
    "            print(f\"The forward path starts from node {u.index}, then we have:\")\n",
    "            print(f\"The backward path starts from node {v.index}, then we have:\")\n",
    "        \n",
    "\n",
    "        for (k,w) in F_G.Adj[u.index]:\n",
    "            if shortcuts is True:\n",
    "                if u.index <= k.index:\n",
    "                    relax(f_Q, u, k, w)\n",
    "            else:\n",
    "                relax(f_Q, u, k, w)\n",
    "            \n",
    "        for (k,w) in B_G.Adj[v.index]:\n",
    "            if shortcuts is True:\n",
    "                if v.index <= k.index:\n",
    "                    relax(b_Q, v, k, w)\n",
    "            else:\n",
    "                relax(b_Q, v, k, w)\n",
    "    \n",
    "    final_path = f_queue+b_queue\n",
    "        \n",
    "    return final_path, final_weight\n"
   ]
  },
  {
   "cell_type": "code",
   "execution_count": 47,
   "metadata": {},
   "outputs": [],
   "source": [
    "def contraction(vertices, edges, updated_edges, num_og_edges, contracted, f=compute_shortcut, index=0):\n",
    "    '''\n",
    "    Function used to compute all the shortcuts for edges in the graph\n",
    "    that have as destination a less important node w.r.t source one\n",
    "    '''\n",
    "    if index == num_og_edges:\n",
    "        return updated_edges\n",
    "\n",
    "    edge = edges[index]\n",
    "    index += 1\n",
    "    if edge.v.index < edge.u.index:\n",
    "        new = f(edge.v, updated_edges, vertices, contracted)\n",
    "        return contraction(vertices, edges, new, num_og_edges, contracted, f, index)\n",
    "    else:\n",
    "        return contraction(vertices, edges, updated_edges, num_og_edges, contracted, f, index)"
   ]
  },
  {
   "source": [
    "Let's test it first on a graph without any kind of shortcuts. I've taken nodes' indices as importance metric, and this will be valid for all the next examples too."
   ],
   "cell_type": "markdown",
   "metadata": {}
  },
  {
   "cell_type": "code",
   "execution_count": 58,
   "metadata": {},
   "outputs": [],
   "source": [
    "a = Node(0,None,None,None)\n",
    "b = Node(1,None,None,None)\n",
    "c = Node(2,None,None,None)\n",
    "d = Node(5,None,None,None)\n",
    "e = Node(4,None,None,None)\n",
    "f = Node(3,None,None,None)\n",
    "\n",
    "vertices = [a,b,c,d,e,f]\n",
    "edges = [Edge(a,b,1), Edge(a,c,10), Edge(b,c,1), Edge(b,f,15), Edge(c,d,2), Edge(d,e,1), Edge(e,f,3)]\n",
    "backward_edges = reverse_edges(edges)\n",
    "\n",
    "G1 = Weighted_Graph(vertices, edges)\n",
    "G2 = Weighted_Graph(vertices, backward_edges)"
   ]
  },
  {
   "cell_type": "code",
   "execution_count": 59,
   "metadata": {},
   "outputs": [
    {
     "output_type": "stream",
     "name": "stdout",
     "text": [
      "The forward path starts from node 0, then we have:\nThe backward path starts from node 4, then we have:\n\nforward node 1 with total distance 1 from root and predecessor node is 0\nbackward node 5 with total distance 1 from root and predecessor node is 4\n"
     ]
    }
   ],
   "source": [
    "res, weight = bidirect_Dijkstra(G1, G2, a, e, shortcuts=False)"
   ]
  },
  {
   "cell_type": "code",
   "execution_count": 60,
   "metadata": {},
   "outputs": [
    {
     "output_type": "stream",
     "name": "stdout",
     "text": [
      "index: 0, data: 0, predecessor: None\nindex: 1, data: 1, predecessor: 0\nindex: 2, data: 3, predecessor: 5\nindex: 5, data: 1, predecessor: 4\nindex: 4, data: 0, predecessor: None\nResulting distance from node a to e is: 5\n"
     ]
    }
   ],
   "source": [
    "for el in res:\n",
    "    el.print_node()\n",
    "print(f\"Resulting distance from node a to e is: {weight}\")"
   ]
  },
  {
   "source": [
    "And result is correct.\n",
    "\n",
    "We can now test the algorithm on the graph presented at ch.8 slide n°45. All shortcuts are created and added to original edges in order to have a top view of the hierarchy."
   ],
   "cell_type": "markdown",
   "metadata": {}
  },
  {
   "cell_type": "code",
   "execution_count": 51,
   "metadata": {},
   "outputs": [
    {
     "output_type": "stream",
     "name": "stdout",
     "text": [
      "deleted -> 1\npred -> [2]\npred_weight -> [1]\nnext -> [2]\nnext_weight -> [2]\ndeleted -> 0\npred -> [4, 7]\npred_weight -> [3, 1]\nnext -> [4, 5]\nnext_weight -> [1, 1]\ndeleted -> 0\npred -> []\npred_weight -> []\nnext -> []\nnext_weight -> []\ndeleted -> 6\npred -> [7]\npred_weight -> [1]\nnext -> [7]\nnext_weight -> [1]\n"
     ]
    }
   ],
   "source": [
    "a = Node(0,None,None,None)\n",
    "b = Node(1,None,None,None)\n",
    "c = Node(2,None,None,None)\n",
    "d = Node(3,None,None,None)\n",
    "e = Node(4,None,None,None)\n",
    "f = Node(5,None,None,None)\n",
    "g = Node(6,None,None,None)\n",
    "h = Node(7,None,None,None)\n",
    "\n",
    "vertices = [a,b,c,d,e,f,g,h]\n",
    "edges = [Edge(b,c,2), Edge(c,b,1), Edge(c,d,3), Edge(a,e,1), Edge(e,a,3), Edge(h,a,1), Edge(h,g,1), Edge(g,h,1), Edge(d,h,3), Edge(e,f,1), Edge(f,h,1), Edge(a,f,1)]\n",
    "\n",
    "contr = [[None for v in vertices] for j in vertices]\n",
    "\n",
    "forward_edges = contraction(vertices, edges, contracted=contr, updated_edges=edges, num_og_edges=len(edges))\n",
    "edges.extend(forward_edges)\n",
    "\n",
    "G1 = Weighted_Graph(vertices, edges)\n",
    "G2 = Weighted_Graph(vertices, reverse_edges(edges))"
   ]
  },
  {
   "cell_type": "code",
   "execution_count": 52,
   "metadata": {},
   "outputs": [
    {
     "output_type": "stream",
     "name": "stdout",
     "text": [
      "The forward path starts from node 2, then we have:\nThe backward path starts from node 4, then we have:\n\nforward node 3 with total distance 3 from root and predecessor node is 2\nbackward node 7 with total distance 2 from root and predecessor node is 4\n\nShortest path form node c to e using shortcuts:\nindex: 2, data: 0, predecessor: None\nindex: 3, data: 3, predecessor: 2\nindex: 7, data: 2, predecessor: 4\nindex: 4, data: 0, predecessor: None\nResulting distance from node c to e is: 8\n"
     ]
    }
   ],
   "source": [
    "res, weight = bidirect_Dijkstra(G1, G2, c, e, shortcuts = True)\n",
    "print(\"\\nShortest path form node c to e using shortcuts:\")\n",
    "for el in res:\n",
    "    el.print_node()\n",
    "print(f\"Resulting distance from node c to e is: {weight}\")"
   ]
  },
  {
   "source": [
    "Result also in this case seems to be correct, since node 0 is not considered due to the presence of a shortcut, but the output path still needs to be unpacked.\n",
    "In order to do so we can recursively unpack the route by using the *contracted* matrix."
   ],
   "cell_type": "markdown",
   "metadata": {}
  },
  {
   "cell_type": "code",
   "execution_count": 53,
   "metadata": {},
   "outputs": [],
   "source": [
    "def shortcuts_unpacking(path, contracted, index):\n",
    "    to_be_added = contracted[path[index-1].index][path[index].index]\n",
    "    if to_be_added is None:\n",
    "        return\n",
    "\n",
    "    else:\n",
    "        path.insert(index, to_be_added)\n",
    "        shortcuts_unpacking(path, contracted, index)\n",
    "        return"
   ]
  },
  {
   "cell_type": "code",
   "execution_count": 54,
   "metadata": {},
   "outputs": [],
   "source": [
    "def path_unpacking(path, contracted):\n",
    "    for i in range(1,len(path)):\n",
    "        if contracted[path[i-1].index][path[i].index] is not None:\n",
    "            shortcuts_unpacking(path, contracted, i)\n",
    "        else:\n",
    "            continue"
   ]
  },
  {
   "cell_type": "code",
   "execution_count": 55,
   "metadata": {},
   "outputs": [],
   "source": [
    "path_unpacking(res, contr)"
   ]
  },
  {
   "cell_type": "code",
   "execution_count": 56,
   "metadata": {},
   "outputs": [
    {
     "output_type": "stream",
     "name": "stdout",
     "text": [
      "This is the overall shortest path obtained by including also contracted nodes:\n\n2 -> 3 -> 7 -> 0 -> 4\n"
     ]
    }
   ],
   "source": [
    "i=0\n",
    "print(\"This is the overall shortest path obtained by including also contracted nodes:\\n\")\n",
    "for el in res:\n",
    "    if i != len(res)-1:\n",
    "        i += 1\n",
    "        print(f\"{el.index} -> \", end='')\n",
    "    else:\n",
    "        print(f\"{el.index}\")\n"
   ]
  },
  {
   "source": [
    "Finally we can verify that previous result is correct by comparing it to the one obtained by computing the same path but without any shortcuts."
   ],
   "cell_type": "markdown",
   "metadata": {}
  },
  {
   "cell_type": "code",
   "execution_count": 20,
   "metadata": {},
   "outputs": [
    {
     "output_type": "stream",
     "name": "stdout",
     "text": [
      "The forward path starts from node 2, then we have:\nThe backward path starts from node 4, then we have:\n\nforward node 1 with total distance 1 from root and predecessor node is 2\nbackward node 0 with total distance 1 from root and predecessor node is 4\n\nforward node 3 with total distance 3 from root and predecessor node is 2\nbackward node 7 with total distance 2 from root and predecessor node is 0\n"
     ]
    }
   ],
   "source": [
    "a = Node(0,None,None,None)\n",
    "b = Node(1,None,None,None)\n",
    "c = Node(2,None,None,None)\n",
    "d = Node(3,None,None,None)\n",
    "e = Node(4,None,None,None)\n",
    "f = Node(5,None,None,None)\n",
    "g = Node(6,None,None,None)\n",
    "h = Node(7,None,None,None)\n",
    "\n",
    "vertices = [a,b,c,d,e,f,g,h]\n",
    "edges = [Edge(b,c,2), Edge(c,b,1), Edge(c,d,3), Edge(a,e,1), Edge(e,a,3), Edge(h,a,1), Edge(h,g,1), Edge(g,h,1), Edge(d,h,3), Edge(e,f,1), Edge(f,h,1), Edge(a,f,1)]\n",
    "backward_edges = reverse_edges(edges)\n",
    "G1 = Weighted_Graph(vertices, edges)\n",
    "G2 = Weighted_Graph(vertices, backward_edges)\n",
    "\n",
    "res, weight = bidirect_Dijkstra(G1,G2,c,e, shortcuts=False)"
   ]
  },
  {
   "cell_type": "code",
   "execution_count": 21,
   "metadata": {},
   "outputs": [
    {
     "output_type": "stream",
     "name": "stdout",
     "text": [
      "Shortest path form node c to e without using shortcuts:\nindex: 2, data: 0, predecessor: None\nindex: 3, data: 3, predecessor: 2\nindex: 7, data: 2, predecessor: 0\nindex: 0, data: 1, predecessor: 4\nindex: 4, data: 0, predecessor: None\nResulting distance from node c to e is: 8\n"
     ]
    }
   ],
   "source": [
    "print(\"Shortest path form node c to e without using shortcuts:\")\n",
    "for el in res:\n",
    "    el.print_node()\n",
    "print(f\"Resulting distance from node c to e is: {weight}\")"
   ]
  }
 ]
}