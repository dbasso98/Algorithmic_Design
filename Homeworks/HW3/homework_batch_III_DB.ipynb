{
 "metadata": {
  "language_info": {
   "codemirror_mode": {
    "name": "ipython",
    "version": 3
   },
   "file_extension": ".py",
   "mimetype": "text/x-python",
   "name": "python",
   "nbconvert_exporter": "python",
   "pygments_lexer": "ipython3",
   "version": "3.9.4"
  },
  "orig_nbformat": 2,
  "kernelspec": {
   "name": "python394jvsc74a57bd0aee8b7b246df8f9039afb4144a1f6fd8d2ca17a180786b69acc140d282b71a49",
   "display_name": "Python 3.9.4 64-bit"
  },
  "metadata": {
   "interpreter": {
    "hash": "aee8b7b246df8f9039afb4144a1f6fd8d2ca17a180786b69acc140d282b71a49"
   }
  }
 },
 "nbformat": 4,
 "nbformat_minor": 2,
 "cells": [
  {
   "source": [
    "# Homework Batch III: Routing Algorithms\n",
    "## Davide Basso - SM3500450"
   ],
   "cell_type": "markdown",
   "metadata": {}
  },
  {
   "source": [
    "1. Implement the binary heap-based version of the Dijkstra's algorithm."
   ],
   "cell_type": "markdown",
   "metadata": {}
  },
  {
   "source": [
    "First of all I've done some slight modifications on the binheap class that we've implemented during lesson in order to properly deal with nodes. These can be found in the file **node_binheap.py** present in this repository; basically since we are considering distances in order to build the heap, all the comparison steps were done with respect to distances and not node's index. Further insights can be found as comments in the same file.\n",
    "\n",
    "Then I've implemented `Node`, `Edge` and `Weighted_Graph` classes, within **graph.py**, that are strictly necessary in order to implement Dijkstra's Algorithm. Also in this case I recall comments present in the aforementioned file, in order to grasp all the properties of each object.\n",
    "\n",
    "\n"
   ],
   "cell_type": "markdown",
   "metadata": {}
  },
  {
   "cell_type": "code",
   "execution_count": 1,
   "metadata": {},
   "outputs": [],
   "source": [
    "from math import inf\n",
    "from graph import *\n",
    "from node_binheap import binheap"
   ]
  },
  {
   "cell_type": "code",
   "execution_count": 2,
   "metadata": {},
   "outputs": [],
   "source": [
    "def init_SSSP(G):\n",
    "    for v in G.V:\n",
    "        v.d = inf\n",
    "        v.pred = None\n",
    "\n",
    "def relax(Q, u, v, w):\n",
    "    if u.d+w < v.d:\n",
    "        Q.decrease_key(v.heap_index, u.d+w)\n",
    "        v.pred = u\n",
    "\n",
    "def Dijkstra(G, s):\n",
    "    init_SSSP(G)\n",
    "    s.d = 0\n",
    "\n",
    "    Q = binheap(G.V)\n",
    "    for h_i, node in enumerate(Q._A):\n",
    "        node.heap_index = h_i\n",
    "\n",
    "    final_queue = []\n",
    "    i = 0\n",
    "    while not Q.is_empty():\n",
    "        u = Q.remove_minimum()\n",
    "        final_queue.append(u)\n",
    "\n",
    "        # this means that we've arrived at the point of the queue\n",
    "        # in which are located only nodes eliminated by shortcuts\n",
    "        if u.d == inf and u.pred is None:\n",
    "            break\n",
    "\n",
    "        if i != 0:\n",
    "            print(f\"\\nnode {u.index} with total distance {u.d} from root and predecessor node is {u.pred.index}\")\n",
    "        else:\n",
    "            i += 1\n",
    "            print(f\"The path starts from node {u.index}, then we have:\")\n",
    "\n",
    "        for (v,w) in G.Adj[u.index]:\n",
    "            relax(Q, u, v, w)\n",
    "    \n",
    "    return final_queue"
   ]
  },
  {
   "cell_type": "code",
   "execution_count": 3,
   "metadata": {},
   "outputs": [],
   "source": [
    "a = Node(0,None,None,None)\n",
    "b = Node(1,None,None,None)\n",
    "c = Node(2,None,None,None)\n",
    "d = Node(3,None,None,None)\n",
    "e = Node(4,None,None,None)\n",
    "f = Node(5,None,None,None)\n",
    "\n",
    "vertices = [a,b,c,d,e,f]\n",
    "edges = [Edge(a,b,1), Edge(a,c,5), Edge(b,f,15), Edge(c,d,2), Edge(d,e,1), Edge(e,f,3)]"
   ]
  },
  {
   "cell_type": "code",
   "execution_count": 4,
   "metadata": {},
   "outputs": [
    {
     "output_type": "stream",
     "name": "stdout",
     "text": [
      "index: 0, data: None, predecessor: None\nindex: 1, data: None, predecessor: None\nindex: 2, data: None, predecessor: None\nindex: 3, data: None, predecessor: None\nindex: 4, data: None, predecessor: None\nindex: 5, data: None, predecessor: None\n"
     ]
    }
   ],
   "source": [
    "G = Weighted_Graph(vertices, edges)\n",
    "for v in G.V:\n",
    "    v.print_node()"
   ]
  },
  {
   "cell_type": "code",
   "execution_count": 5,
   "metadata": {},
   "outputs": [
    {
     "output_type": "stream",
     "name": "stdout",
     "text": [
      "The path starts from node 0, then we have:\n\nnode 1 with total distance 1 from root and predecessor node is 0\n\nnode 2 with total distance 5 from root and predecessor node is 0\n\nnode 3 with total distance 7 from root and predecessor node is 2\n\nnode 4 with total distance 8 from root and predecessor node is 3\n\nnode 5 with total distance 11 from root and predecessor node is 4\n"
     ]
    }
   ],
   "source": [
    "res = Dijkstra(G,a)"
   ]
  },
  {
   "source": [
    "2. Consider the contraction hierarchies presented during the course. Assume to deal with graphs that can be fully represented in the memory of your computer. Implement:\n",
    "\n",
    "(a) an algorithm to add the shortcuts to a graph;\n"
   ],
   "cell_type": "markdown",
   "metadata": {}
  },
  {
   "cell_type": "code",
   "execution_count": 6,
   "metadata": {},
   "outputs": [],
   "source": [
    "def compute_shortcut(node, edges, vertices):\n",
    "    shortcuts = {\"deleted\": None,\n",
    "                 \"pred\": [], \"pred_weight\":[],\n",
    "                 \"next\": [], \"next_weight\": []}\n",
    "\n",
    "    shortcuts[\"deleted\"] = node.index\n",
    "\n",
    "    # find the edges in which node is involved\n",
    "    # and add them to the dictionary\n",
    "    for edge in edges:\n",
    "        if edge.v.index == node.index:\n",
    "            shortcuts[\"pred\"].append(edge.u.index)\n",
    "            shortcuts[\"pred_weight\"].append(edge.weight)\n",
    "        if edge.u.index == node.index:\n",
    "            shortcuts[\"next\"].append(edge.v.index)\n",
    "            shortcuts[\"next_weight\"].append(edge.weight)\n",
    "\n",
    "    for k,v in shortcuts.items():\n",
    "        print(f\"{k} -> {v}\")\n",
    "    \n",
    "    # remove edges involving node\n",
    "    res = [edge for edge in edges if not (edge.v.index == node.index or edge.u.index == node.index)]\n",
    "    \n",
    "    # create new edges\n",
    "    new_edges = []\n",
    "    for pred, pred_w in zip(shortcuts[\"pred\"], shortcuts[\"pred_weight\"]):\n",
    "        #print(pred,\"and\", pred_w)\n",
    "        p = [v for v in vertices if v.index == pred][0]\n",
    "        for succ, succ_w in zip(shortcuts[\"next\"], shortcuts[\"next_weight\"]):\n",
    "            #print(succ,\"and\", succ_w)\n",
    "            s = [v for v in vertices if v.index == succ][0]\n",
    "            new_edge = Edge(p, s, pred_w+succ_w)\n",
    "            new_edges.append(new_edge)\n",
    "            res.append(new_edge)\n",
    "    \n",
    "    # compare if new edges are worse than already existing ones\n",
    "    # if so remove them\n",
    "    for n_e in new_edges:\n",
    "        for e in edges:\n",
    "            if e.u.index == n_e.u.index and e.v.index == n_e.v.index and e.weight < n_e.weight:\n",
    "                res.remove(n_e)\n",
    "                \n",
    "    return res"
   ]
  },
  {
   "cell_type": "code",
   "execution_count": 7,
   "metadata": {},
   "outputs": [],
   "source": [
    "a = Node(0,None,None,None)\n",
    "b = Node(1,None,None,None)\n",
    "c = Node(2,None,None,None)\n",
    "d = Node(3,None,None,None)\n",
    "e = Node(4,None,None,None)\n",
    "f = Node(5,None,None,None)\n",
    "\n",
    "vertices = [a,b,c,d,e,f]\n",
    "edges = [Edge(a,b,10), Edge(a,c,1), Edge(b,c,3), Edge(b,f,15), Edge(c,d,2), Edge(d,e,1), Edge(e,f,3)]"
   ]
  },
  {
   "cell_type": "code",
   "execution_count": 8,
   "metadata": {},
   "outputs": [
    {
     "output_type": "stream",
     "name": "stdout",
     "text": [
      "deleted -> 0\npred -> []\npred_weight -> []\nnext -> [1, 2]\nnext_weight -> [10, 1]\n\n\npred: 1, succ: 2, val: 3\npred: 1, succ: 5, val: 15\npred: 2, succ: 3, val: 2\npred: 3, succ: 4, val: 1\npred: 4, succ: 5, val: 3\n"
     ]
    }
   ],
   "source": [
    "res = compute_shortcut(a, edges, vertices)\n",
    "\n",
    "print(\"\\n\")\n",
    "for el in res:\n",
    "    print(f\"pred: {el.u.index}, succ: {el.v.index}, val: {el.weight}\")"
   ]
  },
  {
   "source": [
    "(b) a bidirectional version of Dijkstra algorithm that can operate on the graphs decorated by the algorithm at Point 2a."
   ],
   "cell_type": "markdown",
   "metadata": {}
  },
  {
   "cell_type": "code",
   "execution_count": 9,
   "metadata": {},
   "outputs": [],
   "source": [
    "def reverse_edges(edges):\n",
    "    back = []\n",
    "    for el in edges:\n",
    "\n",
    "        tmp = Edge(el.v, el.u, el.weight)\n",
    "        back.append(tmp)\n",
    "\n",
    "    return back"
   ]
  },
  {
   "cell_type": "code",
   "execution_count": 10,
   "metadata": {},
   "outputs": [],
   "source": [
    "def get_predecessors(node, predecs):\n",
    "    if node.pred is not None:\n",
    "        predecs.append(node.pred)\n",
    "        get_predecessors(node.pred, predecs)"
   ]
  },
  {
   "cell_type": "code",
   "execution_count": 11,
   "metadata": {},
   "outputs": [],
   "source": [
    "from copy import deepcopy\n",
    "def bidirect_Dijkstra(f_G, b_G, s, t):\n",
    "    F_G = deepcopy(f_G)\n",
    "    B_G = deepcopy(b_G)\n",
    "    init_SSSP(F_G)\n",
    "    init_SSSP(B_G)\n",
    "\n",
    "    F_G.V[s.index].d = 0\n",
    "    f_Q = binheap(F_G.V)\n",
    "\n",
    "    B_G.V[t.index].d = 0\n",
    "    b_Q = binheap(B_G.V)\n",
    "\n",
    "    for h_i, node in enumerate(f_Q._A):\n",
    "        node.heap_index = h_i\n",
    "    for h_i, node in enumerate(b_Q._A):\n",
    "        node.heap_index = h_i\n",
    "    \n",
    "    #print(f_Q)\n",
    "    #print(b_Q)\n",
    "\n",
    "    forward_processed = []\n",
    "    backward_processed = []\n",
    "    i = 0\n",
    "    final_weight = 0\n",
    "    while not f_Q.is_empty() and not b_Q.is_empty():\n",
    "        #print(f_Q)\n",
    "        #print(b_Q)\n",
    "        u = f_Q.remove_minimum()\n",
    "        v = b_Q.remove_minimum()\n",
    "\n",
    "        flag = False\n",
    "\n",
    "        f_queue = []\n",
    "        b_queue = []\n",
    "        dist = 0\n",
    "\n",
    "        print(u.index,v.index)\n",
    "        if u.index==v.index:\n",
    "            flag = True\n",
    "            f_queue.append(u)\n",
    "            get_predecessors(u,f_queue)\n",
    "            b_queue.append(v)\n",
    "            get_predecessors(v,b_queue)\n",
    "\n",
    "            f_queue.reverse()\n",
    "            final_weight = f_queue[-1].d + b_queue[0].d\n",
    "            f_queue.pop()\n",
    "            break\n",
    "        \n",
    "        else:\n",
    "            for el in backward_processed:\n",
    "                if u.index == el.index:\n",
    "                    flag = True\n",
    "                    get_predecessors(u,f_queue)\n",
    "                    b_node = [x for x in B_G.V if x.index == u.index][0]\n",
    "                    b_queue.append(b_node)\n",
    "                    get_predecessors(b_node,b_queue)\n",
    "                    dist = u.d + b_node.d\n",
    "            \n",
    "            for el in forward_processed:\n",
    "                if v.index == el.index:\n",
    "                    flag = True\n",
    "                    b_queue.append(v)\n",
    "                    get_predecessors(v,b_queue)\n",
    "                    f_node = [x for x in F_G.V if x.index == u.index][0]\n",
    "                    get_predecessors(f_node,f_queue)\n",
    "                    dist = v.d + f_node.d\n",
    "            \n",
    "\n",
    "            if flag is True:\n",
    "                f_queue.reverse()\n",
    "                final_weight = dist\n",
    "                break\n",
    "        \n",
    "\n",
    "        forward_processed.append(u)\n",
    "        backward_processed.append(v)\n",
    "        \n",
    "        # this means that we've arrived at the point of the queue\n",
    "        # in which are located only nodes eliminated by shortcuts\n",
    "        if u.d == inf and u.pred is None or v.d == inf and v.pred is None:\n",
    "            break\n",
    "        \n",
    "        if i != 0:\n",
    "            print(f\"\\nforward node {u.index} with total distance {u.d} from root and predecessor node is {u.pred.index}\")\n",
    "            print(f\"backward node {v.index} with total distance {v.d} from root and predecessor node is {v.pred.index}\")\n",
    "        else:\n",
    "            i += 1\n",
    "            print(f\"The forward path starts from node {u.index}, then we have:\")\n",
    "            print(f\"The backward path starts from node {v.index}, then we have:\")\n",
    "        \n",
    "\n",
    "        for (k,w) in F_G.Adj[u.index]:\n",
    "            relax(f_Q, u, k, w)\n",
    "            #if k in backward_processed and u.d + k.d + w < mu:\n",
    "            #    mu = u.d + k.d + w  \n",
    "        \n",
    "        for (k,w) in B_G.Adj[v.index]:\n",
    "            relax(b_Q, v, k, w)\n",
    "            #if k in forward_processed and v.d + k.d + w < mu:\n",
    "            #    mu = v.d + k.d + w\n",
    "    \n",
    "    return f_queue+b_queue, final_weight\n"
   ]
  },
  {
   "cell_type": "code",
   "execution_count": 12,
   "metadata": {},
   "outputs": [],
   "source": [
    "a = Node(0,None,None,None)\n",
    "b = Node(1,None,None,None)\n",
    "c = Node(2,None,None,None)\n",
    "d = Node(5,None,None,None)\n",
    "e = Node(4,None,None,None)\n",
    "f = Node(3,None,None,None)\n",
    "\n",
    "vertices = [a,b,c,d,e,f]\n",
    "edges = [Edge(a,b,1), Edge(a,c,10), Edge(b,c,1), Edge(b,f,15), Edge(c,d,2), Edge(d,e,1), Edge(e,f,3)]\n",
    "backward_edges = reverse_edges(edges)\n",
    "\n",
    "G1 = Weighted_Graph(vertices, edges)\n",
    "G2 = Weighted_Graph(vertices, backward_edges)"
   ]
  },
  {
   "cell_type": "code",
   "execution_count": 13,
   "metadata": {},
   "outputs": [
    {
     "output_type": "stream",
     "name": "stdout",
     "text": [
      "0 4\nThe forward path starts from node 0, then we have:\nThe backward path starts from node 4, then we have:\n1 5\n\nforward node 1 with total distance 1 from root and predecessor node is 0\nbackward node 5 with total distance 1 from root and predecessor node is 4\n2 2\n"
     ]
    }
   ],
   "source": [
    "res, weight = bidirect_Dijkstra(G1, G2, a, e)"
   ]
  },
  {
   "cell_type": "code",
   "execution_count": 14,
   "metadata": {},
   "outputs": [
    {
     "output_type": "stream",
     "name": "stdout",
     "text": [
      "index: 0, data: 0, predecessor: None\nindex: 1, data: 1, predecessor: 0\nindex: 2, data: 3, predecessor: 5\nindex: 5, data: 1, predecessor: 4\nindex: 4, data: 0, predecessor: None\n5\n"
     ]
    }
   ],
   "source": [
    "for el in res:\n",
    "    el.print_node()\n",
    "print(weight)"
   ]
  },
  {
   "cell_type": "code",
   "execution_count": 52,
   "metadata": {},
   "outputs": [],
   "source": [
    "def E_up(vertices, edges, updated_edges, num_og_edges, source, target, f=compute_shortcut, index=0):\n",
    "    if index == num_og_edges:\n",
    "        return updated_edges\n",
    "\n",
    "    edge = edges[index]\n",
    "    index += 1\n",
    "    if edge.v.index < edge.u.index: #and edge.v.index != source.index and edge.v.index != target.index:\n",
    "        new = f(edge.v, updated_edges, vertices)\n",
    "        return E_up(vertices, edges, new, num_og_edges, source, target, f, index)\n",
    "    else:\n",
    "        return E_up(vertices, edges, updated_edges, num_og_edges, source, target, f, index)    \n",
    "\n",
    "def E_down(vertices, edges, updated_edges, num_og_edges, source, target, f=compute_shortcut, index=0):\n",
    "    if index == num_og_edges:\n",
    "        return updated_edges\n",
    "\n",
    "    edge = edges[index]\n",
    "    index += 1\n",
    "    if edge.v.index > edge.u.index: #and edge.v.index != source.index and edge.v.index != target.index:\n",
    "        new = f(edge.v, updated_edges, vertices)\n",
    "        return E_down(vertices, edges, new, num_og_edges, source, target, f, index)\n",
    "    else:\n",
    "        return E_down(vertices, edges, updated_edges, num_og_edges, source, target, f, index)"
   ]
  },
  {
   "cell_type": "code",
   "execution_count": 48,
   "metadata": {},
   "outputs": [
    {
     "output_type": "error",
     "ename": "TypeError",
     "evalue": "E_up() missing 2 required positional arguments: 'source' and 'target'",
     "traceback": [
      "\u001b[0;31m---------------------------------------------------------------------------\u001b[0m",
      "\u001b[0;31mTypeError\u001b[0m                                 Traceback (most recent call last)",
      "\u001b[0;32m<ipython-input-48-158cf801c73b>\u001b[0m in \u001b[0;36m<module>\u001b[0;34m\u001b[0m\n\u001b[0;32m----> 1\u001b[0;31m \u001b[0mforward_preprocessed_edges\u001b[0m \u001b[0;34m=\u001b[0m \u001b[0mE_up\u001b[0m\u001b[0;34m(\u001b[0m\u001b[0mvertices\u001b[0m\u001b[0;34m,\u001b[0m \u001b[0medges\u001b[0m\u001b[0;34m,\u001b[0m \u001b[0mupdated_edges\u001b[0m\u001b[0;34m=\u001b[0m\u001b[0medges\u001b[0m\u001b[0;34m,\u001b[0m \u001b[0mnum_og_edges\u001b[0m\u001b[0;34m=\u001b[0m\u001b[0mlen\u001b[0m\u001b[0;34m(\u001b[0m\u001b[0medges\u001b[0m\u001b[0;34m)\u001b[0m\u001b[0;34m,\u001b[0m \u001b[0mf\u001b[0m\u001b[0;34m=\u001b[0m\u001b[0mcompute_shortcut\u001b[0m\u001b[0;34m,\u001b[0m \u001b[0mindex\u001b[0m\u001b[0;34m=\u001b[0m\u001b[0;36m0\u001b[0m\u001b[0;34m)\u001b[0m\u001b[0;34m\u001b[0m\u001b[0;34m\u001b[0m\u001b[0m\n\u001b[0m",
      "\u001b[0;31mTypeError\u001b[0m: E_up() missing 2 required positional arguments: 'source' and 'target'"
     ]
    }
   ],
   "source": [
    "forward_preprocessed_edges = E_up(vertices, edges, updated_edges=edges, num_og_edges=len(edges), f=compute_shortcut, index=0)"
   ]
  },
  {
   "cell_type": "code",
   "execution_count": 17,
   "metadata": {},
   "outputs": [
    {
     "output_type": "stream",
     "name": "stdout",
     "text": [
      "pred: 0, succ: 1, val: 1\n",
      "pred: 0, succ: 2, val: 10\n",
      "pred: 1, succ: 2, val: 1\n",
      "pred: 2, succ: 5, val: 2\n"
     ]
    }
   ],
   "source": [
    "for el in forward_preprocessed_edges:\n",
    "    print(f\"pred: {el.u.index}, succ: {el.v.index}, val: {el.weight}\")"
   ]
  },
  {
   "cell_type": "code",
   "execution_count": 18,
   "metadata": {},
   "outputs": [
    {
     "output_type": "stream",
     "name": "stdout",
     "text": [
      "deleted -> 1\npred -> [0]\npred_weight -> [1]\nnext -> [2, 3]\nnext_weight -> [1, 15]\ndeleted -> 2\npred -> [0, 0]\npred_weight -> [10, 2]\nnext -> [5]\nnext_weight -> [2]\ndeleted -> 2\npred -> []\npred_weight -> []\nnext -> []\nnext_weight -> []\ndeleted -> 3\npred -> [4, 0]\npred_weight -> [3, 16]\nnext -> []\nnext_weight -> []\ndeleted -> 5\npred -> [0, 0]\npred_weight -> [12, 4]\nnext -> [4]\nnext_weight -> [1]\n"
     ]
    }
   ],
   "source": [
    "backward_preprocessed_edges = E_down(vertices, edges, updated_edges=edges, num_og_edges=len(edges), f=compute_shortcut, index=0)"
   ]
  },
  {
   "cell_type": "code",
   "execution_count": 19,
   "metadata": {},
   "outputs": [
    {
     "output_type": "stream",
     "name": "stdout",
     "text": [
      "pred: 0, succ: 4, val: 13\npred: 0, succ: 4, val: 5\n"
     ]
    }
   ],
   "source": [
    "for el in backward_preprocessed_edges:\n",
    "    print(f\"pred: {el.u.index}, succ: {el.v.index}, val: {el.weight}\")"
   ]
  },
  {
   "cell_type": "code",
   "execution_count": 56,
   "metadata": {},
   "outputs": [
    {
     "output_type": "stream",
     "name": "stdout",
     "text": [
      "deleted -> 1\npred -> [2]\npred_weight -> [1]\nnext -> [2]\nnext_weight -> [2]\ndeleted -> 0\npred -> [4, 7]\npred_weight -> [3, 1]\nnext -> [4, 5]\nnext_weight -> [1, 1]\ndeleted -> 0\npred -> []\npred_weight -> []\nnext -> []\nnext_weight -> []\ndeleted -> 6\npred -> [7]\npred_weight -> [1]\nnext -> [7]\nnext_weight -> [1]\n\n\ndeleted -> 2\npred -> [1]\npred_weight -> [2]\nnext -> [1, 3]\nnext_weight -> [1, 3]\ndeleted -> 3\npred -> [1]\npred_weight -> [5]\nnext -> [7]\nnext_weight -> [3]\ndeleted -> 4\npred -> [0]\npred_weight -> [1]\nnext -> [0, 5]\nnext_weight -> [3, 1]\ndeleted -> 7\npred -> [6, 5, 1]\npred_weight -> [1, 1, 8]\nnext -> [0, 6]\nnext_weight -> [1, 1]\ndeleted -> 7\npred -> []\npred_weight -> []\nnext -> []\nnext_weight -> []\ndeleted -> 5\npred -> [0]\npred_weight -> [1]\nnext -> [0, 6]\nnext_weight -> [2, 2]\ndeleted -> 7\npred -> []\npred_weight -> []\nnext -> []\nnext_weight -> []\ndeleted -> 5\npred -> []\npred_weight -> []\nnext -> []\nnext_weight -> []\n"
     ]
    }
   ],
   "source": [
    "a = Node(0,None,None,None)\n",
    "b = Node(1,None,None,None)\n",
    "c = Node(2,None,None,None)\n",
    "d = Node(3,None,None,None)\n",
    "e = Node(4,None,None,None)\n",
    "f = Node(5,None,None,None)\n",
    "g = Node(6,None,None,None)\n",
    "h = Node(7,None,None,None)\n",
    "\n",
    "vertices = [a,b,c,d,e,f,g,h]\n",
    "edges = [Edge(b,c,2), Edge(c,b,1), Edge(c,d,3), Edge(a,e,1), Edge(e,a,3), Edge(h,a,1), Edge(h,g,1), Edge(g,h,1), Edge(d,h,3), Edge(e,f,1), Edge(f,h,1), Edge(a,f,1)]\n",
    "forward_edges = E_up(vertices, edges, updated_edges=edges, num_og_edges=len(edges), source=c, target=e, f=compute_shortcut, index=0)\n",
    "print(\"\\n\")\n",
    "backward_edges = E_down(vertices, edges, updated_edges=edges, num_og_edges=len(edges), source=c, target=e, f=compute_shortcut, index=0)\n",
    "edges.extend(forward_edges)\n",
    "#edges.append(backward_edges)\n",
    "\n",
    "G1 = Weighted_Graph(vertices, edges)\n",
    "G2 = Weighted_Graph(vertices, reverse_edges(edges))"
   ]
  },
  {
   "cell_type": "code",
   "execution_count": 57,
   "metadata": {},
   "outputs": [
    {
     "output_type": "stream",
     "name": "stdout",
     "text": [
      "2 4\nThe forward path starts from node 2, then we have:\nThe backward path starts from node 4, then we have:\n1 0\n\nforward node 1 with total distance 1 from root and predecessor node is 2\nbackward node 0 with total distance 1 from root and predecessor node is 4\n3 7\n\nforward node 3 with total distance 3 from root and predecessor node is 2\nbackward node 7 with total distance 2 from root and predecessor node is 4\n7 6\nindex: 2, data: 0, predecessor: None\nindex: 3, data: 3, predecessor: 2\nindex: 7, data: 2, predecessor: 4\nindex: 4, data: 0, predecessor: None\n8\n"
     ]
    }
   ],
   "source": [
    "res, weight = bidirect_Dijkstra(G1,G2,c,e)\n",
    "for el in res:\n",
    "    el.print_node()\n",
    "print(weight)"
   ]
  },
  {
   "cell_type": "code",
   "execution_count": 27,
   "metadata": {},
   "outputs": [
    {
     "output_type": "stream",
     "name": "stdout",
     "text": [
      "2 4\nThe forward path starts from node 2, then we have:\nThe backward path starts from node 4, then we have:\n1 0\n\nforward node 1 with total distance 1 from root and predecessor node is 2\nbackward node 0 with total distance 1 from root and predecessor node is 4\n3 7\n\nforward node 3 with total distance 3 from root and predecessor node is 2\nbackward node 7 with total distance 2 from root and predecessor node is 0\n7 6\n"
     ]
    }
   ],
   "source": [
    "a = Node(0,None,None,None)\n",
    "b = Node(1,None,None,None)\n",
    "c = Node(2,None,None,None)\n",
    "d = Node(3,None,None,None)\n",
    "e = Node(4,None,None,None)\n",
    "f = Node(5,None,None,None)\n",
    "g = Node(6,None,None,None)\n",
    "h = Node(7,None,None,None)\n",
    "\n",
    "vertices = [a,b,c,d,e,f,g,h]\n",
    "edges = [Edge(b,c,2), Edge(c,b,1), Edge(c,d,3), Edge(a,e,1), Edge(e,a,3), Edge(h,a,1), Edge(h,g,1), Edge(g,h,1), Edge(d,h,3), Edge(e,f,1), Edge(f,h,1), Edge(a,f,1)]\n",
    "backward_edges = reverse_edges(edges)\n",
    "G1 = Weighted_Graph(vertices, edges)\n",
    "G2 = Weighted_Graph(vertices, backward_edges)\n",
    "\n",
    "res, weight = bidirect_Dijkstra(G1,G2,c,e)"
   ]
  },
  {
   "cell_type": "code",
   "execution_count": 22,
   "metadata": {},
   "outputs": [
    {
     "output_type": "stream",
     "name": "stdout",
     "text": [
      "index: 2, data: 0, predecessor: None\nindex: 3, data: 3, predecessor: 2\nindex: 7, data: 2, predecessor: 0\nindex: 0, data: 1, predecessor: 4\nindex: 4, data: 0, predecessor: None\n8\n"
     ]
    }
   ],
   "source": [
    "for el in res:\n",
    "    el.print_node()\n",
    "print(weight)"
   ]
  },
  {
   "cell_type": "code",
   "execution_count": 23,
   "metadata": {},
   "outputs": [
    {
     "output_type": "stream",
     "name": "stdout",
     "text": [
      "deleted -> 0\npred -> [4, 7]\npred_weight -> [3, 1]\nnext -> [4, 5]\nnext_weight -> [1, 1]\n2 4\nThe forward path starts from node 2, then we have:\nThe backward path starts from node 4, then we have:\n1 7\n\nforward node 1 with total distance 1 from root and predecessor node is 2\nbackward node 7 with total distance 2 from root and predecessor node is 4\n3 6\n\nforward node 3 with total distance 3 from root and predecessor node is 2\nbackward node 6 with total distance 3 from root and predecessor node is 7\n7 5\n"
     ]
    }
   ],
   "source": [
    "new_edges = compute_shortcut(a, edges, vertices)\n",
    "G1 = Weighted_Graph(vertices, new_edges)\n",
    "G2 = Weighted_Graph(vertices, reverse_edges(new_edges))\n",
    "res, weight = bidirect_Dijkstra(G1,G2,c,e)"
   ]
  },
  {
   "cell_type": "code",
   "execution_count": 24,
   "metadata": {},
   "outputs": [
    {
     "output_type": "stream",
     "name": "stdout",
     "text": [
      "index: 2, data: 0, predecessor: None\nindex: 3, data: 3, predecessor: 2\nindex: 7, data: 2, predecessor: 4\nindex: 4, data: 0, predecessor: None\n8\n"
     ]
    }
   ],
   "source": [
    "for el in res:\n",
    "    el.print_node()\n",
    "print(weight)"
   ]
  },
  {
   "cell_type": "code",
   "execution_count": null,
   "metadata": {},
   "outputs": [],
   "source": []
  }
 ]
}