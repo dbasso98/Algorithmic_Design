{
 "metadata": {
  "language_info": {
   "codemirror_mode": {
    "name": "ipython",
    "version": 3
   },
   "file_extension": ".py",
   "mimetype": "text/x-python",
   "name": "python",
   "nbconvert_exporter": "python",
   "pygments_lexer": "ipython3",
   "version": "3.8.4-candidate"
  },
  "orig_nbformat": 2,
  "kernelspec": {
   "name": "python3",
   "display_name": "Python 3.8.4 64-bit",
   "metadata": {
    "interpreter": {
     "hash": "082e9a3bcad0a290d0001e938aa60b99250c6c2ef33a923c00b70f9826caf4b7"
    }
   }
  }
 },
 "nbformat": 4,
 "nbformat_minor": 2,
 "cells": [
  {
   "source": [
    "# Homework Batch I: Matrix Multiplication\n",
    "## Davide Basso - SM3500450"
   ],
   "cell_type": "markdown",
   "metadata": {}
  },
  {
   "source": [
    "In the following functions I used the class Matrix, which we've implemented during lessons and it can be found within the **matrix.py** file."
   ],
   "cell_type": "markdown",
   "metadata": {}
  },
  {
   "cell_type": "code",
   "execution_count": 10,
   "metadata": {},
   "outputs": [],
   "source": [
    "from __future__ import annotations\n",
    "from numbers import Number\n",
    "from typing import List, Tuple\n",
    "from random import random, seed\n",
    "from sys import stdout\n",
    "from timeit import timeit\n",
    "import math\n",
    "from matrix import *"
   ]
  },
  {
   "source": [
    "1) implement the strassen matrix mult function to multiply two $2^n \\times 2^n$ matrices by using the Strassen's algorithm;"
   ],
   "cell_type": "markdown",
   "metadata": {}
  },
  {
   "source": [
    "The implementation is pretty straightforward by following the original formulation that we saw during classes:"
   ],
   "cell_type": "markdown",
   "metadata": {}
  },
  {
   "cell_type": "code",
   "execution_count": 11,
   "metadata": {},
   "outputs": [],
   "source": [
    "def strassen_matrix_mult(A: Matrix, B: Matrix) -> Matrix:\n",
    "    assert A.num_of_cols == B.num_of_rows , \"Incompatible matrices\"\n",
    "\n",
    "    # Base case\n",
    "    if max(A.num_of_rows, B.num_of_cols, A.num_of_cols) < 32:\n",
    "        return gauss_matrix_mult(A, B)\n",
    "    \n",
    "    # Recursive step\n",
    "    A11, A12, A21, A22 = get_matrix_quadrants(A)\n",
    "    B11, B12, B21, B22 = get_matrix_quadrants(B)\n",
    "\n",
    "    # First batch of sums has cost Theta(n^2)\n",
    "    S1 = B12 - B22\n",
    "    S2 = A11 + A12\n",
    "    S3 = A21 + A22\n",
    "    S4 = B21 - B11\n",
    "    S5 = A11 + A22\n",
    "    S6 = B11 + B22 \n",
    "    S7 = A12 - A22 \n",
    "    S8 = B21 + B22\n",
    "    S9 = A11 - A21\n",
    "    S10 = B11 + B12 \n",
    "\n",
    "    # Recursive calls\n",
    "    P1 = strassen_matrix_mult(A11, S1)\n",
    "    P2 = strassen_matrix_mult(S2, B22)\n",
    "    P3 = strassen_matrix_mult(S3, B11)\n",
    "    P4 = strassen_matrix_mult(A22, S4)\n",
    "    P5 = strassen_matrix_mult(S5, S6)\n",
    "    P6 = strassen_matrix_mult(S7, S8)\n",
    "    P7 = strassen_matrix_mult(S9, S10)\n",
    "\n",
    "    # Second batch of sums has cost Theta(n^2)\n",
    "    C11 = P5 + P4 - P2 + P6\n",
    "    C12 = P1 + P2\n",
    "    C21 = P3 + P4\n",
    "    C22 = P5 + P1 - P3 - P7\n",
    "\n",
    "    # Build resulting matrix\n",
    "    result_matrix = Matrix([[0 for x in range(B.num_of_cols)] for y in range(A.num_of_rows)],\n",
    "                            clone_matrix=False)\n",
    "    \n",
    "    # Copying Cij into the resulting matrix\n",
    "    result_matrix.assign_submatrix(0, 0, C11)\n",
    "    result_matrix.assign_submatrix(0, result_matrix.num_of_cols//2, C12)\n",
    "    result_matrix.assign_submatrix(result_matrix.num_of_rows//2, 0, C21)\n",
    "    result_matrix.assign_submatrix(result_matrix.num_of_rows//2, result_matrix.num_of_cols//2, C22)\n",
    "    \n",
    "    return result_matrix\n"
   ]
  },
  {
   "source": [
    "2) generalize strassen matrix mult to deal with any kind of matrix pair that can be multiplied (possibly also non-square matrices) and prove that the asymptotic complexity does not change;"
   ],
   "cell_type": "markdown",
   "metadata": {}
  },
  {
   "source": [
    "We know that Strassen's algorithm can work only with square matrices in which the size of the columns or row is equal to $2^n$. \n",
    "A more general formulation of this algorithm can be achieved thanks to a technique called Padding.\n",
    "In fact, padding with zeros the matrix given as input if this one is not square or has as number of rows or column a number which is not equal to $2^n$ makes us able to recall and use the trivial Strassen algorithm implementation after having padded those matrices to a $N \\times N$ matrix, where $N$ will be the nearest power of two of the biggest size among rows and columns."
   ],
   "cell_type": "markdown",
   "metadata": {}
  },
  {
   "cell_type": "code",
   "execution_count": 12,
   "metadata": {},
   "outputs": [],
   "source": [
    "# Some auxiliary functions used in the implementation of the following methods\n",
    "\n",
    "# Find the next power of 2 of a given number n\n",
    "def next_power_of_two(n):\n",
    "    return int(math.pow(2, math.ceil(math.log(n)/math.log(2))))\n",
    "\n",
    "# Check if number n is a power of 2\n",
    "def is_power_of_two(n):\n",
    "    return ((n & (n-1) == 0) and n != 0)\n",
    "\n",
    "# Check if number n is even\n",
    "def is_even(n):\n",
    "    return (n%2 == 0)"
   ]
  },
  {
   "cell_type": "code",
   "execution_count": 13,
   "metadata": {},
   "outputs": [],
   "source": [
    "def generalized_pow_strassen_matrix_mult(A: Matrix, B: Matrix) -> Matrix:\n",
    "    assert A.num_of_cols == B.num_of_rows , \"Incompatible matrices\"\n",
    "\n",
    "    # find which dimension is the largest\n",
    "    biggest = max(A.num_of_rows, A.num_of_cols, B.num_of_cols)\n",
    "\n",
    "    # base case\n",
    "    if(A.num_of_cols==A.num_of_rows and B.num_of_cols==B.num_of_rows) and (is_power_of_two(A.num_of_rows)):\n",
    "        return strassen_matrix_mult(A,B)\n",
    "\n",
    "    # padding of matrices if needed\n",
    "    else:\n",
    "        A_padded = Matrix([[0 for y in range(next_power_of_two(biggest))] \n",
    "                            for x in range(next_power_of_two(biggest))], clone_matrix=False)\n",
    "        A_padded.assign_submatrix(0,0,A)\n",
    "\n",
    "        B_padded = Matrix([[0 for y in range(next_power_of_two(biggest))] \n",
    "                            for x in range(next_power_of_two(biggest))], clone_matrix=False)\n",
    "        B_padded.assign_submatrix(0,0,B)\n",
    "    \n",
    "    return strassen_matrix_mult(A_padded, B_padded).submatrix(0, A.num_of_rows, 0, B.num_of_cols)\n",
    "    "
   ]
  },
  {
   "source": [
    "Another approach consists in adding just a row or a column if the number of those is equal to an odd number. This could also lead to a smaller overhead w.r.t previous method since we don't have to allocate such bigger matrix than the original ones. Here below the implementation:\n"
   ],
   "cell_type": "markdown",
   "metadata": {}
  },
  {
   "cell_type": "code",
   "execution_count": 14,
   "metadata": {},
   "outputs": [],
   "source": [
    "def generalized_even_strassen_matrix_mult(A: Matrix, B: Matrix) -> Matrix:\n",
    "    assert A.num_of_cols == B.num_of_rows , \"Incompatible matrices\"\n",
    "\n",
    "    if(A.num_of_cols==A.num_of_rows and B.num_of_cols==B.num_of_rows) and (is_power_of_two(A.num_of_rows)):\n",
    "        return strassen_matrix_mult(A,B)\n",
    "\n",
    "    if max(A.num_of_rows, B.num_of_cols, A.num_of_cols) < 32:\n",
    "        return gauss_matrix_mult(A, B)\n",
    "    \n",
    "    # next even padding\n",
    "    A_even_row = A.num_of_rows + A.num_of_rows%2\n",
    "    A_even_col = A.num_of_cols + A.num_of_cols%2\n",
    "    B_even_row = B.num_of_rows + B.num_of_rows%2\n",
    "    B_even_col = B.num_of_cols + B.num_of_cols%2\n",
    "    \n",
    "    A_padded = Matrix([[0 for y in range(A_even_col)] for x in range(A_even_row)], clone_matrix=False)\n",
    "    A_padded.assign_submatrix(0,0,A)\n",
    "    B_padded = Matrix([[0 for y in range(B_even_col)] for x in range(B_even_row)], clone_matrix=False)\n",
    "    B_padded.assign_submatrix(0,0,B)\n",
    "    \n",
    "    # Recursive step\n",
    "    A11, A12, A21, A22 = get_matrix_quadrants(A_padded)\n",
    "    B11, B12, B21, B22 = get_matrix_quadrants(B_padded)\n",
    "\n",
    "    # First batch of sums has cost Theta(n^2)\n",
    "    S1 = B12 - B22\n",
    "    S2 = A11 + A12\n",
    "    S3 = A21 + A22\n",
    "    S4 = B21 - B11\n",
    "    S5 = A11 + A22\n",
    "    S6 = B11 + B22 \n",
    "    S7 = A12 - A22 \n",
    "    S8 = B21 + B22\n",
    "    S9 = A11 - A21\n",
    "    S10 = B11 + B12 \n",
    "\n",
    "    # Recursive calls\n",
    "    P1 = generalized_even_strassen_matrix_mult(A11, S1)\n",
    "    P2 = generalized_even_strassen_matrix_mult(S2, B22)\n",
    "    P3 = generalized_even_strassen_matrix_mult(S3, B11)\n",
    "    P4 = generalized_even_strassen_matrix_mult(A22, S4)\n",
    "    P5 = generalized_even_strassen_matrix_mult(S5, S6)\n",
    "    P6 = generalized_even_strassen_matrix_mult(S7, S8)\n",
    "    P7 = generalized_even_strassen_matrix_mult(S9, S10)\n",
    "\n",
    "    # Second batch of sums has cost Theta(n^2)\n",
    "    C11 = P5 + P4 - P2 + P6\n",
    "    C12 = P1 + P2\n",
    "    C21 = P3 + P4\n",
    "    C22 = P5 + P1 - P3 - P7\n",
    "\n",
    "    # Build resulting matrix\n",
    "    result_matrix = Matrix([[0 for y in range(B_even_col)] for x in range(A_even_row)],\n",
    "                            clone_matrix=False)\n",
    "    \n",
    "    # Copying Cij into the resulting matrix\n",
    "    result_matrix.assign_submatrix(0, 0, C11)\n",
    "    result_matrix.assign_submatrix(0, result_matrix.num_of_cols//2, C12)\n",
    "    result_matrix.assign_submatrix(result_matrix.num_of_rows//2, 0, C21)\n",
    "    result_matrix.assign_submatrix(result_matrix.num_of_rows//2, result_matrix.num_of_cols//2, C22)\n",
    "    \n",
    "    return result_matrix.submatrix(0,A.num_of_rows,0,B.num_of_cols)\n"
   ]
  },
  {
   "source": [
    "Checking if the results are compatible by taking the difference between the two resulting matrices, using both methods implemented before:"
   ],
   "cell_type": "markdown",
   "metadata": {}
  },
  {
   "cell_type": "code",
   "execution_count": 6,
   "metadata": {},
   "outputs": [
    {
     "output_type": "stream",
     "name": "stdout",
     "text": [
      "The difference between the two matrices using next power of 2 method is = 0\n",
      "The difference between the two matrices using next even number method is = 0\n",
      "The difference between the two matrices using next power of 2 method is = 0\n",
      "The difference between the two matrices using next even number method is = 0\n",
      "The difference between the two matrices using next power of 2 method is = 0\n",
      "The difference between the two matrices using next even number method is = 0\n",
      "The difference between the two matrices using next power of 2 method is = 0\n",
      "The difference between the two matrices using next even number method is = 0\n",
      "The difference between the two matrices using next power of 2 method is = 0\n",
      "The difference between the two matrices using next even number method is = 0\n"
     ]
    }
   ],
   "source": [
    "n=[59,31,10,38,91,234,387]\n",
    "m=[37,61,42,35,73,212,315]\n",
    "\n",
    "for i,j in zip(n,m):\n",
    "    A = Matrix([[random() for k in range(j)]for l in range(i)])\n",
    "    B = Matrix([[random() for k in range(i)]for l in range(j)])\n",
    "\n",
    "    C = gauss_matrix_mult(A,B)\n",
    "    D = generalized_even_strassen_matrix_mult(A,B)\n",
    "    E = generalized_pow_strassen_matrix_mult(A,B)\n",
    "    diff_even = C-D\n",
    "    diff_pow = C-E\n",
    "    sum1 = 0\n",
    "    sum2 = 0\n",
    "\n",
    "    for z in range(i):\n",
    "        for y in range(i):\n",
    "            sum1 = sum1 + diff_even[z][y]\n",
    "            sum2 = sum2 + diff_pow[z][y]\n",
    "\n",
    "    print(f'The difference between the two matrices using next power of 2 method is = {sum1}')\n",
    "    print(f'The difference between the two matrices using next even number method is = {sum2}')"
   ]
  },
  {
   "source": [
    "It's important to notice that for both methods, with padding we are not affecting asymptotic complexity since in the worst case we will enlarge the number of columns or rows up to $N$ which is $<2n$ (for the first method e.g $n=1025$ will become $N=2048$). So knowing that time complexity for Strassen algorithm is $O(n^{log_{2}7})$ we can prove that this actually is left unchanged:\n",
    "$$ O(N^{log_{2}7}) < O(2n^{log_{2}7}) = O(7n^{log_{2}7}) \\in O(n^{log_{2}7}) $$\n"
   ],
   "cell_type": "markdown",
   "metadata": {}
  },
  {
   "source": [
    "Finally we can make a comparison between timings using the usual Gauss method, the padding to next even number and to next power of 2:"
   ],
   "cell_type": "markdown",
   "metadata": {}
  },
  {
   "cell_type": "code",
   "execution_count": 12,
   "metadata": {},
   "outputs": [
    {
     "output_type": "stream",
     "name": "stdout",
     "text": [
      "1\t0.000\t0.000\t0.000\n",
      "3\t0.000\t0.000\t0.000\n",
      "9\t0.000\t0.000\t0.003\n",
      "27\t0.007\t0.009\t0.017\n",
      "81\t0.231\t0.227\t0.804\n",
      "243\t5.182\t4.493\t5.359\n",
      "729\t166.004\t110.730\t288.919\n"
     ]
    }
   ],
   "source": [
    "seed(0)\n",
    "\n",
    "for i in range(7):\n",
    "    size = 3**i\n",
    "    stdout.write(f'{size}') \n",
    "    A = Matrix([[random() for x in range(size)] for y in range(size)])\n",
    "    B = Matrix([[random() for x in range(size)] for y in range(size)])\n",
    "\n",
    "    for funct in ['gauss_matrix_mult','generalized_even_strassen_matrix_mult','generalized_pow_strassen_matrix_mult']:\n",
    "        T = timeit(f'{funct}(A,B)', globals=locals(), number=1)\n",
    "        stdout.write('\\t{:.3f}'.format(T))\n",
    "        stdout.flush()\n",
    "    stdout.write('\\n')"
   ]
  },
  {
   "source": [
    "Results show that the latter method is strongly affected by the instantiation of a much larger matrix w.r.t the original one, so even if the complexity is the same it is not convenient to use this kind of approach. On the other hand we can observe that the generalized method using padding to the next even number is very efficient and can lead to strong benefits."
   ],
   "cell_type": "markdown",
   "metadata": {}
  },
  {
   "source": [
    "3) improve the implementation of the function by reducing the number of auxiliary matrices and test the effects on the execution time;"
   ],
   "cell_type": "markdown",
   "metadata": {}
  },
  {
   "source": [
    "The idea I followed in order to reduce the number of auxiliary matrices was to store within the original final matrix $C$ the matrices given as result of the partials multiplications. Moreover to enhance memory usage efficiency I opted, instead of assigning to each one of the matrices $P_i$ a different space in memory, to compute them in the same matrix M.\n",
    "To do so I also used an additional method *add_submatrix* which can be found directly matrix.py file."
   ],
   "cell_type": "markdown",
   "metadata": {}
  },
  {
   "cell_type": "code",
   "execution_count": 6,
   "metadata": {},
   "outputs": [],
   "source": [
    "def opt_strassen_matrix_mult(A: Matrix, B: Matrix) -> Matrix:\n",
    "\n",
    "    # Base case\n",
    "    if max(A.num_of_rows, B.num_of_cols, A.num_of_cols) < 32:\n",
    "        return gauss_matrix_mult(A, B)\n",
    "    \n",
    "    # Recursive step\n",
    "    A11, A12, A21, A22 = get_matrix_quadrants(A)\n",
    "    B11, B12, B21, B22 = get_matrix_quadrants(B)\n",
    "\n",
    "    # Build resulting matrix\n",
    "    result_matrix = Matrix([[0 for x in range(B.num_of_cols)] for y in range(A.num_of_rows)],\n",
    "                            clone_matrix=False)\n",
    "\n",
    "    # Recursive calls and putting already in the correct position of the result matrix \n",
    "    # the matrix obtained by the multiplication\n",
    "    \n",
    "    M = strassen_matrix_mult(A11, B12 - B22)\n",
    "    result_matrix.add_submatrix(0, result_matrix.num_of_cols//2,M)\n",
    "    result_matrix.add_submatrix(result_matrix.num_of_rows//2, result_matrix.num_of_cols//2,M)\n",
    "\n",
    "    M = strassen_matrix_mult(A11 + A12, B22)\n",
    "    result_matrix.add_submatrix(0, 0, -1*M)\n",
    "    result_matrix.add_submatrix(0, result_matrix.num_of_cols//2, M)\n",
    "\n",
    "    M = strassen_matrix_mult(A21 + A22, B11)\n",
    "    result_matrix.add_submatrix(result_matrix.num_of_rows//2, 0, M)\n",
    "    result_matrix.add_submatrix(result_matrix.num_of_rows//2, result_matrix.num_of_cols//2, -1*M)\n",
    "\n",
    "    M = strassen_matrix_mult(A22, B21 - B11)\n",
    "    result_matrix.add_submatrix(0, 0, M)\n",
    "    result_matrix.add_submatrix(result_matrix.num_of_rows//2, 0, M)\n",
    "\n",
    "    M = strassen_matrix_mult(A11 + A22,  B11 + B22)\n",
    "    result_matrix.add_submatrix(0, 0, M)\n",
    "    result_matrix.add_submatrix(result_matrix.num_of_rows//2, result_matrix.num_of_cols//2, M)\n",
    "\n",
    "    M = strassen_matrix_mult(A12 - A22, B21 + B22)\n",
    "    result_matrix.add_submatrix(0, 0, M)\n",
    "\n",
    "\n",
    "    M = strassen_matrix_mult(A11 - A21,  B11 + B12)\n",
    "    result_matrix.add_submatrix(result_matrix.num_of_rows//2, result_matrix.num_of_cols//2, -1*M)\n",
    "    \n",
    "    return result_matrix\n"
   ]
  },
  {
   "source": [
    "Here the some testings in order to check result's correctness and effects on execution time:"
   ],
   "cell_type": "markdown",
   "metadata": {}
  },
  {
   "cell_type": "code",
   "execution_count": 18,
   "metadata": {
    "tags": []
   },
   "outputs": [
    {
     "output_type": "stream",
     "name": "stdout",
     "text": [
      "The difference between the two matrices using optimized method is = 0\n",
      "The difference between the two matrices using optimized method is = 0.0\n",
      "The difference between the two matrices using optimized method is = 0.0\n",
      "The difference between the two matrices using optimized method is = 0.0\n",
      "The difference between the two matrices using optimized method is = 0.0\n",
      "The difference between the two matrices using optimized method is = 3.552713678800501e-15\n",
      "The difference between the two matrices using optimized method is = 1.1901590823981678e-13\n",
      "The difference between the two matrices using optimized method is = -1.4566126083082054e-13\n",
      "The difference between the two matrices using optimized method is = -5.044853423896711e-13\n"
     ]
    }
   ],
   "source": [
    "for i in range(9):\n",
    "    size = 2**i\n",
    "    A = Matrix([[random() for k in range(size)]for l in range(size)])\n",
    "    B = Matrix([[random() for k in range(size)]for l in range(size)])\n",
    "\n",
    "    C = gauss_matrix_mult(A,B)\n",
    "    D = opt_strassen_matrix_mult(A,B)\n",
    "    diff = C-D\n",
    "    sum = 0\n",
    "    for x in range(i):\n",
    "        for y in range(i):\n",
    "            sum = sum + diff[x][y]\n",
    "\n",
    "    print(f'The difference between the two matrices using optimized method is = {sum}')"
   ]
  },
  {
   "cell_type": "code",
   "execution_count": 15,
   "metadata": {},
   "outputs": [
    {
     "output_type": "stream",
     "name": "stdout",
     "text": [
      "1\t0.000\t0.000\t0.000\n",
      "2\t0.000\t0.000\t0.000\n",
      "4\t0.000\t0.000\t0.000\n",
      "8\t0.000\t0.000\t0.000\n",
      "16\t0.003\t0.002\t0.002\n",
      "32\t0.011\t0.016\t0.014\n",
      "64\t0.096\t0.106\t0.123\n",
      "128\t0.766\t0.743\t0.723\n",
      "256\t6.089\t5.409\t5.429\n",
      "512\t54.996\t43.639\t42.039\n",
      "1024\t515.849\t277.411\t275.665\n"
     ]
    }
   ],
   "source": [
    "seed(0)\n",
    "\n",
    "for i in range(11):\n",
    "    size = 2**i\n",
    "    stdout.write(f'{size}') \n",
    "    A = Matrix([[random() for x in range(size)] for y in range(size)])\n",
    "    B = Matrix([[random() for x in range(size)] for y in range(size)])\n",
    "\n",
    "    for funct in ['gauss_matrix_mult','strassen_matrix_mult','opt_strassen_matrix_mult']:\n",
    "        T = timeit(f'{funct}(A,B)', globals=locals(), number=1)\n",
    "        stdout.write('\\t{:.3f}'.format(T))\n",
    "        stdout.flush()\n",
    "    stdout.write('\\n')"
   ]
  },
  {
   "source": [
    "We can see that with this approach the algorithm actually performs better expecially for larger sizes of the matrix."
   ],
   "cell_type": "markdown",
   "metadata": {}
  },
  {
   "source": [
    "4) answer to the following question: how much is the minimum auxiliary\n",
    "space required to evaluate the Strassen's algorithm? Motivate the answer."
   ],
   "cell_type": "markdown",
   "metadata": {}
  },
  {
   "source": [
    "The minimum auxiliary space required to evaluate Strassen's algorithm without any kind of modifications is:\n",
    "\n",
    "$\\begin{aligned}\n",
    "M(n) &= 7M(\\frac{n}{2})+ \\Theta(n^2), \\space n>1 \\\\\n",
    "M(n) &= 1, \\space n = 1\n",
    "\\end{aligned}$\n",
    "\n",
    "This is because at each iteration we need to allocate memory for the 10 partial sums (that follows $\\Theta(n^2)$ complexity) and for the 7 matrices in which we store the partial multiplications.\n",
    "As we can notice the formulation is the same as the one for arithmetic complexity of Strassen's algorithm, so the final result is that the minimum axiliary space required is $O(n^{log_{2}7})$.\n",
    "\n",
    "The previous result is not valid for the optimized algorithm; since we eliminate instantianion of $P_i$ matrices and use only one of matrix $M$ we'll have:\n",
    "\n",
    "$\\begin{aligned}\n",
    "M(n) &= M(\\frac{n}{2})+ \\Theta(n^2), \\space n>1 \\\\\n",
    "M(n) &= 1, \\space n = 1\n",
    "\\end{aligned}$\n",
    "\n",
    "Following the computations $M(n) = M(n/2) + n^2 = M(n/4) + (n/2)^2 + n^2 = \\space ... \\space = n^2(1+\\frac{1}{4}+\\frac{1}{4^2}+...+\\frac{1}{4^{log_{2}n}}) <= 2n^2$, so we have that the complexity is $O(n^2)$."
   ],
   "cell_type": "markdown",
   "metadata": {}
  }
 ]
}